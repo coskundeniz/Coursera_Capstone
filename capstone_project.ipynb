{
 "cells": [
  {
   "cell_type": "markdown",
   "metadata": {},
   "source": [
    "# Comparison of Music Venues Between Beyoğlu and Kadıköy"
   ]
  },
  {
   "cell_type": "markdown",
   "metadata": {},
   "source": [
    "## 1. Problem Description & Discussion of the Background"
   ]
  },
  {
   "cell_type": "markdown",
   "metadata": {},
   "source": [
    "Istanbul is one of the biggest cities in the world with a population over 15 million. It is also a big entartainment center for both tourists and residents. Until a few years ago, Beyoğlu was the number one borough for all kinds of entartainment venues, but it started to change after a few terrorist attacks and bad political decisions. After that Kadıköy borough which is located in the Asia side of the city increased its popularity. On the other hand, city authorities tries to attract people to Beyoğlu, and increase its popularity again.\n",
    "\n",
    "In this project I will compare two boroughs of Istanbul which are centeral places for entertainment venues. Specifically I will interested in music venues. \n",
    "\n",
    "This will help investors that interested in opening a music venue in the city. It will be helpful if we can provide information about density, location, and type information of music venues to them."
   ]
  },
  {
   "cell_type": "markdown",
   "metadata": {},
   "source": [
    "## 2. Data Description"
   ]
  },
  {
   "cell_type": "markdown",
   "metadata": {},
   "source": [
    "Based on the problem description following factors will be used:\n",
    "\n",
    "* Number of venues in given borough\n",
    "* Type of venues\n",
    "* Density of venues for different neighbourhoods\n",
    "* Average house renting prices"
   ]
  },
  {
   "cell_type": "markdown",
   "metadata": {},
   "source": [
    "To obtain above information I will use\n",
    "\n",
    "* Administrative Divisions of the Turkey from Spatial Data Repository of NYU to get coordinates of the cities in Turkey and extract Istanbul related parts.\n",
    "* Foursquare API to get number, type, and location information of nearby venues in selected boroughs.\n",
    "* Finally Hürriyet Emlak website to get average house renting prices which also gives information about some demographic information of residents. "
   ]
  },
  {
   "cell_type": "code",
   "execution_count": null,
   "metadata": {},
   "outputs": [],
   "source": []
  }
 ],
 "metadata": {
  "kernelspec": {
   "display_name": "Python 3",
   "language": "python",
   "name": "python3"
  },
  "language_info": {
   "codemirror_mode": {
    "name": "ipython",
    "version": 3
   },
   "file_extension": ".py",
   "mimetype": "text/x-python",
   "name": "python",
   "nbconvert_exporter": "python",
   "pygments_lexer": "ipython3",
   "version": "3.6.5"
  }
 },
 "nbformat": 4,
 "nbformat_minor": 2
}
