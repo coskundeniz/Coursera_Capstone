{
 "cells": [
  {
   "cell_type": "markdown",
   "metadata": {},
   "source": [
    "# Segmenting and Clustering Neighborhoods in Toronto"
   ]
  },
  {
   "cell_type": "markdown",
   "metadata": {},
   "source": [
    "## Step 1: Scraping and Structuring the Data"
   ]
  },
  {
   "cell_type": "code",
   "execution_count": 38,
   "metadata": {},
   "outputs": [],
   "source": [
    "import numpy as np\n",
    "import pandas as pd\n",
    "pd.set_option('display.max_columns', None)\n",
    "pd.set_option('display.max_rows', None)\n",
    "\n",
    "import requests\n",
    "from bs4 import BeautifulSoup\n",
    "import json\n",
    "from pandas.io.json import json_normalize"
   ]
  },
  {
   "cell_type": "code",
   "execution_count": 47,
   "metadata": {},
   "outputs": [],
   "source": [
    "# since Wikipedia is cencored in my country, I had to use the wikizero link for the same information.\n",
    "# I manually copied the page source to file postal_codes.html and parsed from there.\n",
    "#url_for_postal_codes = 'https://en.0wikipedia.org/wiki/List_of_postal_codes_of_Canada:_M'\n",
    "#response = requests.get(url_for_postal_codes)\n",
    "\n",
    "with open('postal_codes.html') as f:\n",
    "    page_content = f.read()"
   ]
  },
  {
   "cell_type": "code",
   "execution_count": 49,
   "metadata": {},
   "outputs": [],
   "source": [
    "from collections import OrderedDict\n",
    "\n",
    "soup = BeautifulSoup(page_content, 'lxml')\n",
    "\n",
    "# get the part where the table is defined\n",
    "table = soup.find('table')\n",
    "\n",
    "# read header\n",
    "header = table.find('tr').text.strip().split(\"\\n\")\n",
    "\n",
    "# create empty dataframe\n",
    "df = pd.DataFrame(columns=['PostalCode', 'Borough', 'Neighborhood'])\n",
    "\n",
    "processed_data = OrderedDict()\n",
    "\n",
    "# visit all table rows excluding the header\n",
    "for row in table.find_all('tr')[1:]:\n",
    "    code, borough, neigh = row.text.strip().split(\"\\n\")\n",
    "    \n",
    "    if borough != 'Not assigned':\n",
    "        if neigh == 'Not assigned':\n",
    "            neigh = borough\n",
    "    \n",
    "        if code in processed_data:\n",
    "            processed_data[code][1] += \", %s\" % neigh\n",
    "        else:\n",
    "            processed_data.update({code: [borough, neigh]})\n",
    "        \n",
    "for pcode, value in processed_data.items():\n",
    "    df = df.append({'PostalCode': pcode, 'Borough': value[0], 'Neighborhood': value[1]}, ignore_index=True)"
   ]
  },
  {
   "cell_type": "code",
   "execution_count": 51,
   "metadata": {},
   "outputs": [
    {
     "data": {
      "text/plain": [
       "(103, 3)"
      ]
     },
     "execution_count": 51,
     "metadata": {},
     "output_type": "execute_result"
    }
   ],
   "source": [
    "df.shape"
   ]
  },
  {
   "cell_type": "code",
   "execution_count": null,
   "metadata": {},
   "outputs": [],
   "source": []
  }
 ],
 "metadata": {
  "kernelspec": {
   "display_name": "Python 3",
   "language": "python",
   "name": "python3"
  },
  "language_info": {
   "codemirror_mode": {
    "name": "ipython",
    "version": 3
   },
   "file_extension": ".py",
   "mimetype": "text/x-python",
   "name": "python",
   "nbconvert_exporter": "python",
   "pygments_lexer": "ipython3",
   "version": "3.6.5"
  }
 },
 "nbformat": 4,
 "nbformat_minor": 2
}
